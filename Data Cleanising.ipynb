{
 "cells": [
  {
   "cell_type": "markdown",
   "metadata": {
    "application/vnd.databricks.v1+cell": {
     "cellMetadata": {},
     "inputWidgets": {},
     "nuid": "bc67522e-902d-43ab-afab-6b4ec90bf933",
     "showTitle": false,
     "title": ""
    }
   },
   "source": [
    "# Data Cleanising "
   ]
  },
  {
   "cell_type": "markdown",
   "metadata": {
    "application/vnd.databricks.v1+cell": {
     "cellMetadata": {},
     "inputWidgets": {},
     "nuid": "99657a30-a194-4cec-9c7c-c23538de71e7",
     "showTitle": false,
     "title": ""
    }
   },
   "source": [
    "intialsing spark session"
   ]
  },
  {
   "cell_type": "code",
   "execution_count": 0,
   "metadata": {
    "application/vnd.databricks.v1+cell": {
     "cellMetadata": {},
     "inputWidgets": {},
     "nuid": "5b33f3ee-6feb-4d3f-a438-4e91a74192e8",
     "showTitle": false,
     "title": ""
    }
   },
   "outputs": [],
   "source": [
    "!pip install pyspark==3.1.2 --user\n",
    "!pip install findspark --user"
   ]
  },
  {
   "cell_type": "code",
   "execution_count": 0,
   "metadata": {
    "application/vnd.databricks.v1+cell": {
     "cellMetadata": {},
     "inputWidgets": {},
     "nuid": "aa1bd47f-09bf-40b9-b4a5-673270b146f3",
     "showTitle": false,
     "title": ""
    }
   },
   "outputs": [],
   "source": [
    "import findspark\n",
    "findspark.init()"
   ]
  },
  {
   "cell_type": "code",
   "execution_count": 0,
   "metadata": {
    "application/vnd.databricks.v1+cell": {
     "cellMetadata": {},
     "inputWidgets": {},
     "nuid": "3a2f296f-4c18-4694-9a26-696dd3bbb3d4",
     "showTitle": false,
     "title": ""
    }
   },
   "outputs": [],
   "source": [
    "try:\n",
    "    from pyspark import SparkContext, SparkConf\n",
    "    from pyspark.sql import SparkSession\n",
    "except ImportError as e:\n",
    "    printmd('<<<<<!!!!! Please restart your kernel after installing Apache Spark !!!!!>>>>>')"
   ]
  },
  {
   "cell_type": "code",
   "execution_count": 0,
   "metadata": {
    "application/vnd.databricks.v1+cell": {
     "cellMetadata": {},
     "inputWidgets": {},
     "nuid": "d21ca1d0-235f-4750-9cc8-c70c99f35e3c",
     "showTitle": false,
     "title": ""
    }
   },
   "outputs": [],
   "source": [
    "sc = SparkContext.getOrCreate(SparkConf().setMaster(\"local[*]\"))\n",
    "\n",
    "spark = SparkSession \\\n",
    "    .builder \\\n",
    "    .getOrCreate()"
   ]
  },
  {
   "cell_type": "markdown",
   "metadata": {
    "application/vnd.databricks.v1+cell": {
     "cellMetadata": {},
     "inputWidgets": {},
     "nuid": "fd8d4dff-3959-4ca4-a996-b03306194245",
     "showTitle": false,
     "title": ""
    }
   },
   "source": [
    "import required libraries"
   ]
  },
  {
   "cell_type": "code",
   "execution_count": 0,
   "metadata": {
    "application/vnd.databricks.v1+cell": {
     "cellMetadata": {
      "byteLimit": 2048000,
      "rowLimit": 10000
     },
     "inputWidgets": {},
     "nuid": "67494333-52ac-432d-957a-fcfdc3ba53e7",
     "showTitle": false,
     "title": ""
    }
   },
   "outputs": [],
   "source": [
    "from pyspark.sql.functions import col"
   ]
  },
  {
   "cell_type": "markdown",
   "metadata": {
    "application/vnd.databricks.v1+cell": {
     "cellMetadata": {},
     "inputWidgets": {},
     "nuid": "ee294186-5e59-471b-9f47-e982e049099b",
     "showTitle": false,
     "title": ""
    }
   },
   "source": [
    "Loading Dataset fom CSV file to Spark DataFrame"
   ]
  },
  {
   "cell_type": "code",
   "execution_count": 0,
   "metadata": {
    "application/vnd.databricks.v1+cell": {
     "cellMetadata": {
      "byteLimit": 2048000,
      "rowLimit": 10000
     },
     "inputWidgets": {},
     "nuid": "57448d8e-20cd-4794-951c-21c7ddd157dc",
     "showTitle": false,
     "title": ""
    }
   },
   "outputs": [
    {
     "output_type": "stream",
     "name": "stdout",
     "output_type": "stream",
     "text": [
      "+------------+------+--------+---------+----+------+------+--------------------+------------+------+-------+-----------------+-------------+-----------+-------+--------+--------+--------+---+---+---------+------+\n|Diabetes_012|HighBP|HighChol|CholCheck| BMI|Smoker|Stroke|HeartDiseaseorAttack|PhysActivity|Fruits|Veggies|HvyAlcoholConsump|AnyHealthcare|NoDocbcCost|GenHlth|MentHlth|PhysHlth|DiffWalk|Sex|Age|Education|Income|\n+------------+------+--------+---------+----+------+------+--------------------+------------+------+-------+-----------------+-------------+-----------+-------+--------+--------+--------+---+---+---------+------+\n|         0.0|     0|     1.0|        1|15.0|   1.0|   0.0|                 0.0|           0|     1|      1|                0|            1|        0.0|    5.0|    10.0|    20.0|     0.0|  0| 11|      4.0|   5.0|\n|         2.0|     1|     0.0|        1|28.0|   0.0|   0.0|                 1.0|           0|     1|      0|                0|            1|        0.0|    2.0|     0.0|     0.0|     0.0|  0| 11|      4.0|   3.0|\n|         2.0|     1|     1.0|        1|33.0|   0.0|   0.0|                 0.0|           1|     1|      1|                0|            1|        0.0|    2.0|    10.0|     0.0|     0.0|  0|  9|      4.0|   7.0|\n|         2.0|     0|     1.0|        1|29.0|   0.0|   1.0|                 1.0|           1|     1|      1|                0|            1|        0.0|    5.0|     0.0|    30.0|     1.0|  1| 12|      3.0|   4.0|\n|         0.0|     0|     0.0|        1|24.0|   1.0|   0.0|                 0.0|           0|     0|      0|                0|            1|        0.0|    3.0|     0.0|     0.0|     1.0|  1| 13|      5.0|   6.0|\n|         0.0|     1|     0.0|        1|40.0|   1.0|   0.0|                 0.0|           1|     1|      1|                0|            1|        0.0|    3.0|     5.0|    25.0|     1.0|  0| 10|      4.0|   8.0|\n|         0.0|     1|     1.0|        1|27.0|   1.0|   0.0|                 0.0|           0|     0|      1|                0|            1|        0.0|    4.0|    25.0|     0.0|     0.0|  0| 10|      5.0|   3.0|\n|         2.0|     0|     0.0|        1|24.0|   0.0|   0.0|                 1.0|           0|     0|      1|                0|            1|        0.0|    4.0|     0.0|     0.0|     0.0|  1| 12|      6.0|   7.0|\n|         0.0|     1|     1.0|        1|30.0|   0.0|   0.0|                 0.0|           0|     1|      1|                0|            1|        0.0|    2.0|     0.0|     0.0|     0.0|  0|  7|      4.0|   6.0|\n|         0.0|     1|     1.0|        1|36.0|   1.0|   0.0|                 0.0|           0|     0|      0|                0|            1|        0.0|    4.0|     0.0|     0.0|     0.0|  1| 10|      4.0|   8.0|\n|         2.0|     0|     0.0|        1|33.0|   1.0|   0.0|                 0.0|           1|     0|      1|                0|            1|        0.0|    4.0|     0.0|     0.0|     0.0|  1|  6|      5.0|   2.0|\n|         2.0|     1|     1.0|        1|30.0|   0.0|   0.0|                 0.0|           0|     1|      1|                0|            1|        0.0|    3.0|     2.0|     4.0|     0.0|  0| 11|      5.0|   4.0|\n|         2.0|     0|     0.0|        1|27.0|   0.0|   0.0|                 0.0|           0|     0|      1|                0|            1|        0.0|    4.0|     0.0|    30.0|     0.0|  1| 13|      6.0|   5.0|\n|         2.0|     0|     0.0|        1|31.0|   1.0|   0.0|                 0.0|           0|     1|      1|                0|            1|        0.0|    3.0|    10.0|    10.0|     0.0|  0|  8|      4.0|   8.0|\n|         0.0|     1|     1.0|        1|27.0|   1.0|   0.0|                 0.0|           0|     1|      1|                0|            1|        0.0|    3.0|     0.0|     2.0|     1.0|  0| 13|      6.0|   6.0|\n|         0.0|     1|     1.0|        1|35.0|   1.0|   0.0|                 0.0|           1|     1|      0|                0|            1|        0.0|    3.0|     5.0|     3.0|     0.0|  0| 11|      4.0|   5.0|\n|         0.0|     1|     1.0|        1|30.0|   0.0|   0.0|                 0.0|           1|     1|      0|                0|            1|        0.0|    2.0|     0.0|    10.0|     0.0|  0| 10|      6.0|   8.0|\n|         0.0|     0|     0.0|        1|31.0|   0.0|   0.0|                 0.0|           1|     1|      1|                0|            1|        0.0|    1.0|     0.0|     2.0|     0.0|  1| 11|      6.0|   8.0|\n|         1.0|     1|     1.0|        1|33.0|   0.0|   0.0|                 0.0|           0|     1|      1|                0|            1|        0.0|    2.0|     0.0|     0.0|     0.0|  0| 11|      5.0|   5.0|\n|         0.0|     0|     0.0|        1|31.0|   1.0|   0.0|                 0.0|           1|     1|      1|                0|            1|        0.0|    4.0|     5.0|     0.0|     0.0|  0| 10|      5.0|   6.0|\n+------------+------+--------+---------+----+------+------+--------------------+------------+------+-------+-----------------+-------------+-----------+-------+--------+--------+--------+---+---+---------+------+\nonly showing top 20 rows\n\n"
     ]
    }
   ],
   "source": [
    "path = \"dbfs:/FileStore/tables/diabetes.csv\"\n",
    "df = spark.read.csv(path,header=True,inferSchema=True)\n",
    "df.show()"
   ]
  },
  {
   "cell_type": "markdown",
   "metadata": {
    "application/vnd.databricks.v1+cell": {
     "cellMetadata": {},
     "inputWidgets": {},
     "nuid": "c7ce13b5-c577-4048-aa97-d934bdaa44e8",
     "showTitle": false,
     "title": ""
    }
   },
   "source": [
    "All values should be intergers. But according to inital data analysis there are some floal values. First we will convert them to intergers\n",
    "\n"
   ]
  },
  {
   "cell_type": "code",
   "execution_count": 0,
   "metadata": {
    "application/vnd.databricks.v1+cell": {
     "cellMetadata": {
      "byteLimit": 2048000,
      "rowLimit": 10000
     },
     "inputWidgets": {},
     "nuid": "a5358ed3-ba43-4008-85a5-5182254f152d",
     "showTitle": false,
     "title": ""
    }
   },
   "outputs": [
    {
     "output_type": "stream",
     "name": "stdout",
     "output_type": "stream",
     "text": [
      "+------------+------+--------+---------+---+------+------+--------------------+------------+------+-------+-----------------+-------------+-----------+-------+--------+--------+--------+---+---+---------+------+\n|Diabetes_012|HighBP|HighChol|CholCheck|BMI|Smoker|Stroke|HeartDiseaseorAttack|PhysActivity|Fruits|Veggies|HvyAlcoholConsump|AnyHealthcare|NoDocbcCost|GenHlth|MentHlth|PhysHlth|DiffWalk|Sex|Age|Education|Income|\n+------------+------+--------+---------+---+------+------+--------------------+------------+------+-------+-----------------+-------------+-----------+-------+--------+--------+--------+---+---+---------+------+\n|           0|     0|       1|        1| 15|     1|     0|                   0|           0|     1|      1|                0|            1|          0|      5|      10|      20|       0|  0| 11|        4|     5|\n|           2|     1|       0|        1| 28|     0|     0|                   1|           0|     1|      0|                0|            1|          0|      2|       0|       0|       0|  0| 11|        4|     3|\n|           2|     1|       1|        1| 33|     0|     0|                   0|           1|     1|      1|                0|            1|          0|      2|      10|       0|       0|  0|  9|        4|     7|\n|           2|     0|       1|        1| 29|     0|     1|                   1|           1|     1|      1|                0|            1|          0|      5|       0|      30|       1|  1| 12|        3|     4|\n|           0|     0|       0|        1| 24|     1|     0|                   0|           0|     0|      0|                0|            1|          0|      3|       0|       0|       1|  1| 13|        5|     6|\n|           0|     1|       0|        1| 40|     1|     0|                   0|           1|     1|      1|                0|            1|          0|      3|       5|      25|       1|  0| 10|        4|     8|\n|           0|     1|       1|        1| 27|     1|     0|                   0|           0|     0|      1|                0|            1|          0|      4|      25|       0|       0|  0| 10|        5|     3|\n|           2|     0|       0|        1| 24|     0|     0|                   1|           0|     0|      1|                0|            1|          0|      4|       0|       0|       0|  1| 12|        6|     7|\n|           0|     1|       1|        1| 30|     0|     0|                   0|           0|     1|      1|                0|            1|          0|      2|       0|       0|       0|  0|  7|        4|     6|\n|           0|     1|       1|        1| 36|     1|     0|                   0|           0|     0|      0|                0|            1|          0|      4|       0|       0|       0|  1| 10|        4|     8|\n|           2|     0|       0|        1| 33|     1|     0|                   0|           1|     0|      1|                0|            1|          0|      4|       0|       0|       0|  1|  6|        5|     2|\n|           2|     1|       1|        1| 30|     0|     0|                   0|           0|     1|      1|                0|            1|          0|      3|       2|       4|       0|  0| 11|        5|     4|\n|           2|     0|       0|        1| 27|     0|     0|                   0|           0|     0|      1|                0|            1|          0|      4|       0|      30|       0|  1| 13|        6|     5|\n|           2|     0|       0|        1| 31|     1|     0|                   0|           0|     1|      1|                0|            1|          0|      3|      10|      10|       0|  0|  8|        4|     8|\n|           0|     1|       1|        1| 27|     1|     0|                   0|           0|     1|      1|                0|            1|          0|      3|       0|       2|       1|  0| 13|        6|     6|\n|           0|     1|       1|        1| 35|     1|     0|                   0|           1|     1|      0|                0|            1|          0|      3|       5|       3|       0|  0| 11|        4|     5|\n|           0|     1|       1|        1| 30|     0|     0|                   0|           1|     1|      0|                0|            1|          0|      2|       0|      10|       0|  0| 10|        6|     8|\n|           0|     0|       0|        1| 31|     0|     0|                   0|           1|     1|      1|                0|            1|          0|      1|       0|       2|       0|  1| 11|        6|     8|\n|           1|     1|       1|        1| 33|     0|     0|                   0|           0|     1|      1|                0|            1|          0|      2|       0|       0|       0|  0| 11|        5|     5|\n|           0|     0|       0|        1| 31|     1|     0|                   0|           1|     1|      1|                0|            1|          0|      4|       5|       0|       0|  0| 10|        5|     6|\n+------------+------+--------+---------+---+------+------+--------------------+------------+------+-------+-----------------+-------------+-----------+-------+--------+--------+--------+---+---+---------+------+\nonly showing top 20 rows\n\n"
     ]
    }
   ],
   "source": [
    "for col_name,col_type in df.dtypes:\n",
    "    if col_type == 'double':\n",
    "        df=df.withColumn(col_name,col(col_name).cast('int'))\n",
    "\n",
    "df.show()"
   ]
  },
  {
   "cell_type": "code",
   "execution_count": 0,
   "metadata": {
    "application/vnd.databricks.v1+cell": {
     "cellMetadata": {
      "byteLimit": 2048000,
      "rowLimit": 10000
     },
     "inputWidgets": {},
     "nuid": "68d996c8-4af1-4762-b223-f22540c42ff8",
     "showTitle": false,
     "title": ""
    }
   },
   "outputs": [
    {
     "output_type": "stream",
     "name": "stdout",
     "output_type": "stream",
     "text": [
      "root\n |-- Diabetes_012: integer (nullable = true)\n |-- HighBP: integer (nullable = true)\n |-- HighChol: integer (nullable = true)\n |-- CholCheck: integer (nullable = true)\n |-- BMI: integer (nullable = true)\n |-- Smoker: integer (nullable = true)\n |-- Stroke: integer (nullable = true)\n |-- HeartDiseaseorAttack: integer (nullable = true)\n |-- PhysActivity: integer (nullable = true)\n |-- Fruits: integer (nullable = true)\n |-- Veggies: integer (nullable = true)\n |-- HvyAlcoholConsump: integer (nullable = true)\n |-- AnyHealthcare: integer (nullable = true)\n |-- NoDocbcCost: integer (nullable = true)\n |-- GenHlth: integer (nullable = true)\n |-- MentHlth: integer (nullable = true)\n |-- PhysHlth: integer (nullable = true)\n |-- DiffWalk: integer (nullable = true)\n |-- Sex: integer (nullable = true)\n |-- Age: integer (nullable = true)\n |-- Education: integer (nullable = true)\n |-- Income: integer (nullable = true)\n\n"
     ]
    }
   ],
   "source": [
    "df.printSchema()"
   ]
  },
  {
   "cell_type": "markdown",
   "metadata": {
    "application/vnd.databricks.v1+cell": {
     "cellMetadata": {},
     "inputWidgets": {},
     "nuid": "5d354fd8-43af-4c9b-9f48-410d372e41e8",
     "showTitle": false,
     "title": ""
    }
   },
   "source": [
    "We can see all features converted to intergers. Now we can drop AnyHealthcare,MentHlth and PhysHlth as we discussed in initial data analysis. "
   ]
  },
  {
   "cell_type": "code",
   "execution_count": 0,
   "metadata": {
    "application/vnd.databricks.v1+cell": {
     "cellMetadata": {
      "byteLimit": 2048000,
      "rowLimit": 10000
     },
     "inputWidgets": {},
     "nuid": "ac01575f-03e3-485c-a5cd-39c7aef9b6a4",
     "showTitle": false,
     "title": ""
    }
   },
   "outputs": [
    {
     "output_type": "stream",
     "name": "stdout",
     "output_type": "stream",
     "text": [
      "+------------+------+--------+---------+---+------+------+--------------------+------------+------+-------+-----------------+-----------+-------+--------+---+---+---------+------+\n|Diabetes_012|HighBP|HighChol|CholCheck|BMI|Smoker|Stroke|HeartDiseaseorAttack|PhysActivity|Fruits|Veggies|HvyAlcoholConsump|NoDocbcCost|GenHlth|DiffWalk|Sex|Age|Education|Income|\n+------------+------+--------+---------+---+------+------+--------------------+------------+------+-------+-----------------+-----------+-------+--------+---+---+---------+------+\n|           0|     0|       1|        1| 15|     1|     0|                   0|           0|     1|      1|                0|          0|      5|       0|  0| 11|        4|     5|\n|           2|     1|       0|        1| 28|     0|     0|                   1|           0|     1|      0|                0|          0|      2|       0|  0| 11|        4|     3|\n|           2|     1|       1|        1| 33|     0|     0|                   0|           1|     1|      1|                0|          0|      2|       0|  0|  9|        4|     7|\n|           2|     0|       1|        1| 29|     0|     1|                   1|           1|     1|      1|                0|          0|      5|       1|  1| 12|        3|     4|\n|           0|     0|       0|        1| 24|     1|     0|                   0|           0|     0|      0|                0|          0|      3|       1|  1| 13|        5|     6|\n|           0|     1|       0|        1| 40|     1|     0|                   0|           1|     1|      1|                0|          0|      3|       1|  0| 10|        4|     8|\n|           0|     1|       1|        1| 27|     1|     0|                   0|           0|     0|      1|                0|          0|      4|       0|  0| 10|        5|     3|\n|           2|     0|       0|        1| 24|     0|     0|                   1|           0|     0|      1|                0|          0|      4|       0|  1| 12|        6|     7|\n|           0|     1|       1|        1| 30|     0|     0|                   0|           0|     1|      1|                0|          0|      2|       0|  0|  7|        4|     6|\n|           0|     1|       1|        1| 36|     1|     0|                   0|           0|     0|      0|                0|          0|      4|       0|  1| 10|        4|     8|\n|           2|     0|       0|        1| 33|     1|     0|                   0|           1|     0|      1|                0|          0|      4|       0|  1|  6|        5|     2|\n|           2|     1|       1|        1| 30|     0|     0|                   0|           0|     1|      1|                0|          0|      3|       0|  0| 11|        5|     4|\n|           2|     0|       0|        1| 27|     0|     0|                   0|           0|     0|      1|                0|          0|      4|       0|  1| 13|        6|     5|\n|           2|     0|       0|        1| 31|     1|     0|                   0|           0|     1|      1|                0|          0|      3|       0|  0|  8|        4|     8|\n|           0|     1|       1|        1| 27|     1|     0|                   0|           0|     1|      1|                0|          0|      3|       1|  0| 13|        6|     6|\n|           0|     1|       1|        1| 35|     1|     0|                   0|           1|     1|      0|                0|          0|      3|       0|  0| 11|        4|     5|\n|           0|     1|       1|        1| 30|     0|     0|                   0|           1|     1|      0|                0|          0|      2|       0|  0| 10|        6|     8|\n|           0|     0|       0|        1| 31|     0|     0|                   0|           1|     1|      1|                0|          0|      1|       0|  1| 11|        6|     8|\n|           1|     1|       1|        1| 33|     0|     0|                   0|           0|     1|      1|                0|          0|      2|       0|  0| 11|        5|     5|\n|           0|     0|       0|        1| 31|     1|     0|                   0|           1|     1|      1|                0|          0|      4|       0|  0| 10|        5|     6|\n+------------+------+--------+---------+---+------+------+--------------------+------------+------+-------+-----------------+-----------+-------+--------+---+---+---------+------+\nonly showing top 20 rows\n\n"
     ]
    }
   ],
   "source": [
    "df = df.drop('AnyHealthcare','MentHlth','PhysHlth')\n",
    "df.show()"
   ]
  },
  {
   "cell_type": "markdown",
   "metadata": {
    "application/vnd.databricks.v1+cell": {
     "cellMetadata": {},
     "inputWidgets": {},
     "nuid": "46d73b62-bafb-490e-9069-24175eb7dcc7",
     "showTitle": false,
     "title": ""
    }
   },
   "source": [
    "There are small precentage who are in the pre-diabetics region. Sience we want to train a model that predicts diabetics or not let's drop them"
   ]
  },
  {
   "cell_type": "code",
   "execution_count": 0,
   "metadata": {
    "application/vnd.databricks.v1+cell": {
     "cellMetadata": {
      "byteLimit": 2048000,
      "rowLimit": 10000
     },
     "inputWidgets": {},
     "nuid": "929eb198-e41c-47de-bbdf-7d04db646700",
     "showTitle": false,
     "title": ""
    }
   },
   "outputs": [
    {
     "output_type": "stream",
     "name": "stdout",
     "output_type": "stream",
     "text": [
      "+------------+------+--------+---------+---+------+------+--------------------+------------+------+-------+-----------------+-----------+-------+--------+---+---+---------+------+\n|Diabetes_012|HighBP|HighChol|CholCheck|BMI|Smoker|Stroke|HeartDiseaseorAttack|PhysActivity|Fruits|Veggies|HvyAlcoholConsump|NoDocbcCost|GenHlth|DiffWalk|Sex|Age|Education|Income|\n+------------+------+--------+---------+---+------+------+--------------------+------------+------+-------+-----------------+-----------+-------+--------+---+---+---------+------+\n|           0|     0|       1|        1| 15|     1|     0|                   0|           0|     1|      1|                0|          0|      5|       0|  0| 11|        4|     5|\n|           2|     1|       0|        1| 28|     0|     0|                   1|           0|     1|      0|                0|          0|      2|       0|  0| 11|        4|     3|\n|           2|     1|       1|        1| 33|     0|     0|                   0|           1|     1|      1|                0|          0|      2|       0|  0|  9|        4|     7|\n|           2|     0|       1|        1| 29|     0|     1|                   1|           1|     1|      1|                0|          0|      5|       1|  1| 12|        3|     4|\n|           0|     0|       0|        1| 24|     1|     0|                   0|           0|     0|      0|                0|          0|      3|       1|  1| 13|        5|     6|\n|           0|     1|       0|        1| 40|     1|     0|                   0|           1|     1|      1|                0|          0|      3|       1|  0| 10|        4|     8|\n|           0|     1|       1|        1| 27|     1|     0|                   0|           0|     0|      1|                0|          0|      4|       0|  0| 10|        5|     3|\n|           2|     0|       0|        1| 24|     0|     0|                   1|           0|     0|      1|                0|          0|      4|       0|  1| 12|        6|     7|\n|           0|     1|       1|        1| 30|     0|     0|                   0|           0|     1|      1|                0|          0|      2|       0|  0|  7|        4|     6|\n|           0|     1|       1|        1| 36|     1|     0|                   0|           0|     0|      0|                0|          0|      4|       0|  1| 10|        4|     8|\n|           2|     0|       0|        1| 33|     1|     0|                   0|           1|     0|      1|                0|          0|      4|       0|  1|  6|        5|     2|\n|           2|     1|       1|        1| 30|     0|     0|                   0|           0|     1|      1|                0|          0|      3|       0|  0| 11|        5|     4|\n|           2|     0|       0|        1| 27|     0|     0|                   0|           0|     0|      1|                0|          0|      4|       0|  1| 13|        6|     5|\n|           2|     0|       0|        1| 31|     1|     0|                   0|           0|     1|      1|                0|          0|      3|       0|  0|  8|        4|     8|\n|           0|     1|       1|        1| 27|     1|     0|                   0|           0|     1|      1|                0|          0|      3|       1|  0| 13|        6|     6|\n|           0|     1|       1|        1| 35|     1|     0|                   0|           1|     1|      0|                0|          0|      3|       0|  0| 11|        4|     5|\n|           0|     1|       1|        1| 30|     0|     0|                   0|           1|     1|      0|                0|          0|      2|       0|  0| 10|        6|     8|\n|           0|     0|       0|        1| 31|     0|     0|                   0|           1|     1|      1|                0|          0|      1|       0|  1| 11|        6|     8|\n|           0|     0|       0|        1| 31|     1|     0|                   0|           1|     1|      1|                0|          0|      4|       0|  0| 10|        5|     6|\n|           0|     1|       0|        1| 29|     0|     0|                   0|           1|     1|      1|                0|          0|      4|       0|  1| 11|        4|     5|\n+------------+------+--------+---------+---+------+------+--------------------+------------+------+-------+-----------------+-----------+-------+--------+---+---+---------+------+\nonly showing top 20 rows\n\n"
     ]
    }
   ],
   "source": [
    "df_new = df.filter(df['Diabetes_012']!=1)\n",
    "df_new.show()"
   ]
  },
  {
   "cell_type": "markdown",
   "metadata": {
    "application/vnd.databricks.v1+cell": {
     "cellMetadata": {},
     "inputWidgets": {},
     "nuid": "a05668b5-08e6-481d-9e10-a5543922ccab",
     "showTitle": false,
     "title": ""
    }
   },
   "source": [
    "Since there are no nulls we doesn;t require to drop or fill null values using relevant value (like column mean). Therefore, Let's save dataframe as Parquet file and end session.\n"
   ]
  },
  {
   "cell_type": "code",
   "execution_count": 0,
   "metadata": {
    "application/vnd.databricks.v1+cell": {
     "cellMetadata": {
      "byteLimit": 2048000,
      "rowLimit": 10000
     },
     "inputWidgets": {},
     "nuid": "83501516-ef97-4242-bc64-430435139927",
     "showTitle": false,
     "title": ""
    }
   },
   "outputs": [],
   "source": [
    "path = \"dbfs:/FileStore/tables/fiterd_diabetics.parquet\"\n",
    "df_new.write.parquet(path)"
   ]
  },
  {
   "cell_type": "code",
   "execution_count": 0,
   "metadata": {
    "application/vnd.databricks.v1+cell": {
     "cellMetadata": {},
     "inputWidgets": {},
     "nuid": "67333d00-ddfa-4687-9b63-56d948d73873",
     "showTitle": false,
     "title": ""
    }
   },
   "outputs": [],
   "source": [
    "spark.stop()"
   ]
  }
 ],
 "metadata": {
  "application/vnd.databricks.v1+notebook": {
   "dashboards": [],
   "language": "python",
   "notebookMetadata": {
    "pythonIndentUnit": 4
   },
   "notebookName": "Data Cleanising",
   "widgets": {}
  }
 },
 "nbformat": 4,
 "nbformat_minor": 0
}
